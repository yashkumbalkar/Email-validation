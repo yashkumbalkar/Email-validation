{
 "cells": [
  {
   "cell_type": "code",
   "execution_count": 8,
   "metadata": {},
   "outputs": [
    {
     "name": "stdout",
     "output_type": "stream",
     "text": [
      "Enter your email: yash@gmail.com\n",
      " Entered email is right\n"
     ]
    }
   ],
   "source": [
    "email = input(\"Enter your email: \")# g@g.in , g@g.com\n",
    "\n",
    "k = 0\n",
    "j = 0\n",
    "d = 0\n",
    "\n",
    "if len(email)>= 6: ## wrong email 1\n",
    "    \n",
    "    if email[0].isalpha(): ## wrong email 2\n",
    "        \n",
    "        if (\"@\" in email) and (email.count(\"@\") == 1): ## wrong email 3\n",
    "            \n",
    "            if (email[-4] == \".\") ^ (email[-3] == \".\"): ## wrong email 4\n",
    "                \n",
    "                for i in email:\n",
    "                    if i==i.isspace(): ## wrong email 5\n",
    "                        k = 1\n",
    "                    elif i.isalpha():\n",
    "                        if i == i.upper(): ## wrong email 5\n",
    "                            j = 1\n",
    "                    elif i.isdigit():\n",
    "                        continue\n",
    "                    elif i == \"_\" or i == \".\" or i == \"@\":\n",
    "                        continue\n",
    "                    else: ## wrong email 5\n",
    "                        d = 1\n",
    "                            \n",
    "                if k == 1 or j == 1 or d ==1:\n",
    "                    print(\"Wrong email 5\")\n",
    "                else:\n",
    "                    print(\" Entered email is right\")\n",
    "            \n",
    "            else:\n",
    "                print(\" Wrong email 4\")\n",
    "        \n",
    "        else:\n",
    "            print(\"Wrong email 3\")\n",
    "    \n",
    "    else:\n",
    "        print(\"Wrong email 2\")\n",
    "        \n",
    "\n",
    "else:\n",
    "    print(\"Wrong email 1\")\n",
    "    \n",
    "    \n"
   ]
  },
  {
   "cell_type": "code",
   "execution_count": null,
   "metadata": {},
   "outputs": [],
   "source": []
  }
 ],
 "metadata": {
  "kernelspec": {
   "display_name": "Python 3",
   "language": "python",
   "name": "python3"
  },
  "language_info": {
   "codemirror_mode": {
    "name": "ipython",
    "version": 3
   },
   "file_extension": ".py",
   "mimetype": "text/x-python",
   "name": "python",
   "nbconvert_exporter": "python",
   "pygments_lexer": "ipython3",
   "version": "3.7.7"
  }
 },
 "nbformat": 4,
 "nbformat_minor": 4
}
